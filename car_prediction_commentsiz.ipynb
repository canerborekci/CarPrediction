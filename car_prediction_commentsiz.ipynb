{
  "nbformat": 4,
  "nbformat_minor": 0,
  "metadata": {
    "colab": {
      "name": "car_prediction.ipynb adlı not defterinin kopyası",
      "provenance": [],
      "collapsed_sections": [],
      "authorship_tag": "ABX9TyOS0peRYZC0WcWXoj83ndKB",
      "include_colab_link": true
    },
    "kernelspec": {
      "name": "python3",
      "display_name": "Python 3"
    }
  },
  "cells": [
    {
      "cell_type": "markdown",
      "metadata": {
        "id": "view-in-github",
        "colab_type": "text"
      },
      "source": [
        "<a href=\"https://colab.research.google.com/github/canerborekci/CarPrediction/blob/main/car_prediction_commentsiz.ipynb\" target=\"_parent\"><img src=\"https://colab.research.google.com/assets/colab-badge.svg\" alt=\"Open In Colab\"/></a>"
      ]
    },
    {
      "cell_type": "code",
      "metadata": {
        "id": "MSNuXNyKnBzl"
      },
      "source": [
        "import numpy as np\r\n",
        "import pandas as pd\r\n",
        "import seaborn as sns\r\n",
        "import io\r\n",
        "from google.colab import files\r\n",
        "from sklearn.preprocessing import LabelEncoder\r\n",
        "from sklearn.impute import KNNImputer\r\n",
        "from sklearn.model_selection import train_test_split, GridSearchCV,cross_val_score\r\n",
        "from sklearn.ensemble import RandomForestRegressor,GradientBoostingRegressor\r\n",
        "from sklearn.metrics import mean_squared_error, r2_score\r\n",
        "from sklearn import metrics\r\n",
        "from sklearn import neighbors\r\n",
        "from sklearn.svm import SVR\r\n",
        "from warnings import filterwarnings\r\n",
        "filterwarnings('ignore')\r\n",
        "from lightgbm import LGBMRegressor\r\n",
        "from xgboost import XGBRegressor\r\n",
        "from sklearn.linear_model import LinearRegression, Lasso, ElasticNet, Ridge\r\n",
        "from sklearn import model_selection \r\n",
        "from sklearn.tree import DecisionTreeRegressor\r\n",
        "from sklearn.neighbors import KNeighborsRegressor\r\n",
        "from sklearn.neural_network import MLPRegressor\r\n",
        "from sklearn.preprocessing import StandardScaler\r\n",
        "import matplotlib.pyplot as plt"
      ],
      "execution_count": 2,
      "outputs": []
    },
    {
      "cell_type": "code",
      "metadata": {
        "colab": {
          "resources": {
            "http://localhost:8080/nbextensions/google.colab/files.js": {
              "data": "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",
              "ok": true,
              "headers": [
                [
                  "content-type",
                  "application/javascript"
                ]
              ],
              "status": 200,
              "status_text": ""
            }
          },
          "base_uri": "https://localhost:8080/",
          "height": 72
        },
        "id": "5NASGW1DnclS",
        "outputId": "a3d7c34e-f3ee-476b-9316-6823c305810f"
      },
      "source": [
        "uploaded = files.upload()        \r\n",
        "df=pd.read_csv(io.BytesIO(uploaded['turkey_car_market.csv']))"
      ],
      "execution_count": 137,
      "outputs": [
        {
          "output_type": "display_data",
          "data": {
            "text/html": [
              "\n",
              "     <input type=\"file\" id=\"files-40a1f0a0-57d5-4404-9c0f-26c77c4d157c\" name=\"files[]\" multiple disabled\n",
              "        style=\"border:none\" />\n",
              "     <output id=\"result-40a1f0a0-57d5-4404-9c0f-26c77c4d157c\">\n",
              "      Upload widget is only available when the cell has been executed in the\n",
              "      current browser session. Please rerun this cell to enable.\n",
              "      </output>\n",
              "      <script src=\"/nbextensions/google.colab/files.js\"></script> "
            ],
            "text/plain": [
              "<IPython.core.display.HTML object>"
            ]
          },
          "metadata": {
            "tags": []
          }
        },
        {
          "output_type": "stream",
          "text": [
            "Saving turkey_car_market.csv to turkey_car_market.csv\n"
          ],
          "name": "stdout"
        }
      ]
    },
    {
      "cell_type": "code",
      "metadata": {
        "colab": {
          "base_uri": "https://localhost:8080/",
          "height": 428
        },
        "id": "VbHhxuO2n6qA",
        "outputId": "9d9f9e91-3a21-4c74-999a-a40ed823bed1"
      },
      "source": [
        "df.head()"
      ],
      "execution_count": 138,
      "outputs": [
        {
          "output_type": "execute_result",
          "data": {
            "text/html": [
              "<div>\n",
              "<style scoped>\n",
              "    .dataframe tbody tr th:only-of-type {\n",
              "        vertical-align: middle;\n",
              "    }\n",
              "\n",
              "    .dataframe tbody tr th {\n",
              "        vertical-align: top;\n",
              "    }\n",
              "\n",
              "    .dataframe thead th {\n",
              "        text-align: right;\n",
              "    }\n",
              "</style>\n",
              "<table border=\"1\" class=\"dataframe\">\n",
              "  <thead>\n",
              "    <tr style=\"text-align: right;\">\n",
              "      <th></th>\n",
              "      <th>İlan Tarihi</th>\n",
              "      <th>Marka</th>\n",
              "      <th>Arac Tip Grubu</th>\n",
              "      <th>Arac Tip</th>\n",
              "      <th>Model Yıl</th>\n",
              "      <th>Yakıt Turu</th>\n",
              "      <th>Vites</th>\n",
              "      <th>CCM</th>\n",
              "      <th>Beygir Gucu</th>\n",
              "      <th>Renk</th>\n",
              "      <th>Kasa Tipi</th>\n",
              "      <th>Kimden</th>\n",
              "      <th>Durum</th>\n",
              "      <th>Km</th>\n",
              "      <th>Fiyat</th>\n",
              "    </tr>\n",
              "  </thead>\n",
              "  <tbody>\n",
              "    <tr>\n",
              "      <th>0</th>\n",
              "      <td>27/05/2020</td>\n",
              "      <td>Jaguar</td>\n",
              "      <td>XF</td>\n",
              "      <td>2.0 D Prestige Plus</td>\n",
              "      <td>2017.0</td>\n",
              "      <td>Dizel</td>\n",
              "      <td>Otomatik Vites</td>\n",
              "      <td>1801-2000 cc</td>\n",
              "      <td>176-200 BG</td>\n",
              "      <td>Lacivert</td>\n",
              "      <td>Hatchback 5 Kapı</td>\n",
              "      <td>Galeriden</td>\n",
              "      <td>2. El</td>\n",
              "      <td>26100</td>\n",
              "      <td>634500</td>\n",
              "    </tr>\n",
              "    <tr>\n",
              "      <th>1</th>\n",
              "      <td>16/06/2020</td>\n",
              "      <td>Acura</td>\n",
              "      <td>CL</td>\n",
              "      <td>-</td>\n",
              "      <td>2015.0</td>\n",
              "      <td>Dizel</td>\n",
              "      <td>Yarı Otomatik Vites</td>\n",
              "      <td>1301-1600 cc</td>\n",
              "      <td>101-125 BG</td>\n",
              "      <td>Mavi</td>\n",
              "      <td>Sedan</td>\n",
              "      <td>Sahibinden</td>\n",
              "      <td>2. El</td>\n",
              "      <td>127000</td>\n",
              "      <td>151500</td>\n",
              "    </tr>\n",
              "    <tr>\n",
              "      <th>2</th>\n",
              "      <td>14/06/2020</td>\n",
              "      <td>Acura</td>\n",
              "      <td>CL</td>\n",
              "      <td>2.2</td>\n",
              "      <td>1994.0</td>\n",
              "      <td>Benzin/LPG</td>\n",
              "      <td>Düz Vites</td>\n",
              "      <td>1301-1600 cc</td>\n",
              "      <td>101-125 BG</td>\n",
              "      <td>Turkuaz</td>\n",
              "      <td>Sedan</td>\n",
              "      <td>Sahibinden</td>\n",
              "      <td>2. El</td>\n",
              "      <td>175000</td>\n",
              "      <td>19750</td>\n",
              "    </tr>\n",
              "    <tr>\n",
              "      <th>3</th>\n",
              "      <td>11/06/2020</td>\n",
              "      <td>Acura</td>\n",
              "      <td>CL</td>\n",
              "      <td>-</td>\n",
              "      <td>2013.0</td>\n",
              "      <td>Dizel</td>\n",
              "      <td>Düz Vites</td>\n",
              "      <td>1301-1600 cc</td>\n",
              "      <td>76-100 BG</td>\n",
              "      <td>Kahverengi</td>\n",
              "      <td>Sedan</td>\n",
              "      <td>Sahibinden</td>\n",
              "      <td>2. El</td>\n",
              "      <td>325</td>\n",
              "      <td>52000</td>\n",
              "    </tr>\n",
              "    <tr>\n",
              "      <th>4</th>\n",
              "      <td>11/06/2020</td>\n",
              "      <td>Acura</td>\n",
              "      <td>CL</td>\n",
              "      <td>2.2</td>\n",
              "      <td>2010.0</td>\n",
              "      <td>Dizel</td>\n",
              "      <td>Otomatik Vites</td>\n",
              "      <td>1801-2000 cc</td>\n",
              "      <td>151-175 BG</td>\n",
              "      <td>Beyaz</td>\n",
              "      <td>Sedan</td>\n",
              "      <td>Sahibinden</td>\n",
              "      <td>2. El</td>\n",
              "      <td>207000</td>\n",
              "      <td>148750</td>\n",
              "    </tr>\n",
              "  </tbody>\n",
              "</table>\n",
              "</div>"
            ],
            "text/plain": [
              "  İlan Tarihi   Marka Arac Tip Grubu  ...  Durum      Km   Fiyat\n",
              "0  27/05/2020  Jaguar             XF  ...  2. El   26100  634500\n",
              "1  16/06/2020   Acura             CL  ...  2. El  127000  151500\n",
              "2  14/06/2020   Acura             CL  ...  2. El  175000   19750\n",
              "3  11/06/2020   Acura             CL  ...  2. El     325   52000\n",
              "4  11/06/2020   Acura             CL  ...  2. El  207000  148750\n",
              "\n",
              "[5 rows x 15 columns]"
            ]
          },
          "metadata": {
            "tags": []
          },
          "execution_count": 138
        }
      ]
    },
    {
      "cell_type": "code",
      "metadata": {
        "colab": {
          "base_uri": "https://localhost:8080/"
        },
        "id": "CEnCy8x9oEYj",
        "outputId": "a2155448-7390-4c9e-d998-8c7c7aca1064"
      },
      "source": [
        "#Veri tipleri\r\n",
        "df.info()"
      ],
      "execution_count": 139,
      "outputs": [
        {
          "output_type": "stream",
          "text": [
            "<class 'pandas.core.frame.DataFrame'>\n",
            "RangeIndex: 9044 entries, 0 to 9043\n",
            "Data columns (total 15 columns):\n",
            " #   Column          Non-Null Count  Dtype  \n",
            "---  ------          --------------  -----  \n",
            " 0   İlan Tarihi     9044 non-null   object \n",
            " 1   Marka           9044 non-null   object \n",
            " 2   Arac Tip Grubu  9044 non-null   object \n",
            " 3   Arac Tip        9044 non-null   object \n",
            " 4   Model Yıl       9044 non-null   float64\n",
            " 5   Yakıt Turu      9044 non-null   object \n",
            " 6   Vites           9044 non-null   object \n",
            " 7   CCM             9044 non-null   object \n",
            " 8   Beygir Gucu     9044 non-null   object \n",
            " 9   Renk            9044 non-null   object \n",
            " 10  Kasa Tipi       9044 non-null   object \n",
            " 11  Kimden          9044 non-null   object \n",
            " 12  Durum           9044 non-null   object \n",
            " 13  Km              9044 non-null   int64  \n",
            " 14  Fiyat           9044 non-null   int64  \n",
            "dtypes: float64(1), int64(2), object(12)\n",
            "memory usage: 1.0+ MB\n"
          ],
          "name": "stdout"
        }
      ]
    },
    {
      "cell_type": "code",
      "metadata": {
        "colab": {
          "base_uri": "https://localhost:8080/",
          "height": 383
        },
        "id": "eQwtlZI4oMxV",
        "outputId": "76de3244-d2a5-4569-ee1c-cf048ad134b3"
      },
      "source": [
        "sns.catplot(x=\"Yakıt Turu\", y=\"Fiyat\", kind=\"bar\", data=df);"
      ],
      "execution_count": 151,
      "outputs": [
        {
          "output_type": "display_data",
          "data": {
            "image/png": "[encoded data removed]",
            "text/plain": [
              "<Figure size 360x360 with 1 Axes>"
            ]
          },
          "metadata": {
            "tags": [],
            "needs_background": "light"
          }
        }
      ]
    },
    {
      "cell_type": "code",
      "metadata": {
        "colab": {
          "base_uri": "https://localhost:8080/",
          "height": 383
        },
        "id": "sJAVdNCvoRkd",
        "outputId": "d7c53275-524f-4d45-c843-4ff874b1d235"
      },
      "source": [
        "sns.catplot(x=\"Vites\", y=\"Fiyat\", kind=\"bar\", data=df, palette=\"ch:.25\");"
      ],
      "execution_count": 26,
      "outputs": [
        {
          "output_type": "display_data",
          "data": {
            "image/png": "[encoded data removed]",
            "text/plain": [
              "<Figure size 360x360 with 1 Axes>"
            ]
          },
          "metadata": {
            "tags": [],
            "needs_background": "light"
          }
        }
      ]
    },
    {
      "cell_type": "code",
      "metadata": {
        "colab": {
          "base_uri": "https://localhost:8080/",
          "height": 383
        },
        "id": "zHZy_Ai-odFl",
        "outputId": "7f307a3a-a40e-486b-cc5d-db79548d7f33"
      },
      "source": [
        "sns.catplot(x=\"Durum\", y=\"Fiyat\", kind=\"bar\", data=df);\r\n"
      ],
      "execution_count": null,
      "outputs": [
        {
          "output_type": "display_data",
          "data": {
            "image/png": "[encoded data removed]",
            "text/plain": [
              "<Figure size 360x360 with 1 Axes>"
            ]
          },
          "metadata": {
            "tags": [],
            "needs_background": "light"
          }
        }
      ]
    },
    {
      "cell_type": "code",
      "metadata": {
        "colab": {
          "base_uri": "https://localhost:8080/",
          "height": 383
        },
        "id": "Mjj5Fhgroj0h",
        "outputId": "b7272640-9582-45fc-8754-0e48a77e1d79"
      },
      "source": [
        "sns.catplot(x=\"Kimden\", y=\"Fiyat\", kind=\"bar\", data=df, palette=\"ch:.25\");"
      ],
      "execution_count": null,
      "outputs": [
        {
          "output_type": "display_data",
          "data": {
            "image/png": "[encoded data removed]",
            "text/plain": [
              "<Figure size 360x360 with 1 Axes>"
            ]
          },
          "metadata": {
            "tags": [],
            "needs_background": "light"
          }
        }
      ]
    },
    {
      "cell_type": "code",
      "metadata": {
        "colab": {
          "base_uri": "https://localhost:8080/"
        },
        "id": "ncLK-lhjoq0G",
        "outputId": "6afae49e-d27b-4c83-dbd4-44671d43a9d8"
      },
      "source": [
        "print(len(df['Marka'].unique()))               \r\n",
        "markalar=df['Marka'].unique()\r\n",
        "print(markalar)"
      ],
      "execution_count": 27,
      "outputs": [
        {
          "output_type": "stream",
          "text": [
            "36\n",
            "['Jaguar' 'Acura' 'Jeep' 'Hyundai' 'Alfa Romeo' 'Audi' 'Mercedes'\n",
            " 'Volkswagen' 'Land Rover' 'BMW' 'Dacia' 'Renault' 'Peugeot' 'Chevrolet'\n",
            " 'Chery' 'Citroen' 'Chrysler' 'Fiat' 'Ford' 'Honda' 'Geely' 'Infiniti'\n",
            " 'Isuzu' 'Kia' 'Lada' 'Maserati' 'Mazda' 'Mini' 'Mitsubishi' 'Nissan'\n",
            " 'Opel' 'Porsche' 'Rover' 'Seat' 'Skoda' 'Tofaş']\n"
          ],
          "name": "stdout"
        }
      ]
    },
    {
      "cell_type": "code",
      "metadata": {
        "colab": {
          "base_uri": "https://localhost:8080/"
        },
        "id": "ZdfyCTDrovlT",
        "outputId": "365a682f-441f-4150-e3b1-7db3ab92ec86"
      },
      "source": [
        "print(len(df['Arac Tip'].unique()))\r\n",
        "car_type=df['Arac Tip'].unique()\r\n",
        "print(car_type)"
      ],
      "execution_count": 28,
      "outputs": [
        {
          "output_type": "stream",
          "text": [
            "1759\n",
            "['2.0 D Prestige Plus' '-' '2.2' ... 'SLX ie' 'SL' 'L']\n"
          ],
          "name": "stdout"
        }
      ]
    },
    {
      "cell_type": "code",
      "metadata": {
        "colab": {
          "base_uri": "https://localhost:8080/"
        },
        "id": "7bYuvyCDoyjS",
        "outputId": "56b67a5a-90eb-4792-c933-3a6ac7bb527d"
      },
      "source": [
        "len(df[df['Arac Tip']=='-'])  "
      ],
      "execution_count": null,
      "outputs": [
        {
          "output_type": "execute_result",
          "data": {
            "text/plain": [
              "55"
            ]
          },
          "metadata": {
            "tags": []
          },
          "execution_count": 37
        }
      ]
    },
    {
      "cell_type": "code",
      "metadata": {
        "colab": {
          "base_uri": "https://localhost:8080/"
        },
        "id": "7_Wyqr9Zo2ay",
        "outputId": "af4eaa32-c2be-4ae0-c8c4-c8c3d41eba1d"
      },
      "source": [
        "print(len(df['Yakıt Turu'].unique()))\r\n",
        "yakıt_type=df['Yakıt Turu'].unique()\r\n",
        "yakıt_type"
      ],
      "execution_count": null,
      "outputs": [
        {
          "output_type": "stream",
          "text": [
            "5\n"
          ],
          "name": "stdout"
        },
        {
          "output_type": "execute_result",
          "data": {
            "text/plain": [
              "array(['Dizel', 'Benzin/LPG', 'Hibrit', 'Benzin', 'Elektrik'],\n",
              "      dtype=object)"
            ]
          },
          "metadata": {
            "tags": []
          },
          "execution_count": 38
        }
      ]
    },
    {
      "cell_type": "code",
      "metadata": {
        "colab": {
          "base_uri": "https://localhost:8080/"
        },
        "id": "QlEzF9axo7Kc",
        "outputId": "d823ca8e-0b17-42ae-d16e-e14c00c032d5"
      },
      "source": [
        "print(len(df['Vites'].unique()))\r\n",
        "vites_type=df['Vites'].unique()\r\n",
        "vites_type"
      ],
      "execution_count": null,
      "outputs": [
        {
          "output_type": "stream",
          "text": [
            "3\n"
          ],
          "name": "stdout"
        },
        {
          "output_type": "execute_result",
          "data": {
            "text/plain": [
              "array(['Otomatik Vites', 'Yarı Otomatik Vites', 'Düz Vites'], dtype=object)"
            ]
          },
          "metadata": {
            "tags": []
          },
          "execution_count": 39
        }
      ]
    },
    {
      "cell_type": "code",
      "metadata": {
        "colab": {
          "base_uri": "https://localhost:8080/"
        },
        "id": "W0hg04Zso_2M",
        "outputId": "1657c32b-9196-40d4-fac5-00f5ea4d9be5"
      },
      "source": [
        "print('Farklı CCM değer sayısı : ', len(df['CCM'].unique()),'\\n')\r\n",
        "CCM_type=df['CCM'].unique()\r\n",
        "print(CCM_type,'\\n')\r\n",
        "print('Bilmiyorum değeri girilmiş CCM sayısı : ', len(df[df['CCM']=='Bilmiyorum']))"
      ],
      "execution_count": 14,
      "outputs": [
        {
          "output_type": "stream",
          "text": [
            "Farklı CCM değer sayısı :  15 \n",
            "\n",
            "['1801-2000 cc' '1301-1600 cc' '1601-1800 cc' '1300 cc ve altı'\n",
            " '2501-3000 cc' 'Bilmiyorum' '2001-2500 cc' '3501-4000 cc' '3001-3500 cc'\n",
            " '4001-4500 cc' '-' '6001 cc ve üzeri' '5501-6000 cc' '5001-5500 cc'\n",
            " '4501-5000 cc'] \n",
            "\n",
            "Bilmiyorum değeri girilmiş CCM sayısı :  108\n"
          ],
          "name": "stdout"
        }
      ]
    },
    {
      "cell_type": "code",
      "metadata": {
        "colab": {
          "base_uri": "https://localhost:8080/"
        },
        "id": "qn0l6gfcpEWI",
        "outputId": "b3ade88b-c743-425f-d0a5-01eb84d2388c"
      },
      "source": [
        "print('Farklı Beygir gucu değer sayısı : ', len(df['Beygir Gucu'].unique()),'\\n')\r\n",
        "power=df['Beygir Gucu'].unique()\r\n",
        "print(power,'\\n')\r\n",
        "print('Bilmiyorum değeri girilmiş Beygir Gucu sayısı : ', len(df[df['Beygir Gucu']=='Bilmiyorum']))"
      ],
      "execution_count": 15,
      "outputs": [
        {
          "output_type": "stream",
          "text": [
            "Farklı Beygir gucu değer sayısı :  19 \n",
            "\n",
            "['176-200 BG' '101-125 BG' '76-100 BG' '151-175 BG' '100 BG ve altı'\n",
            " '201-225 BG' '126-150 BG' 'Bilmiyorum' '276-300 BG' '226-250 BG'\n",
            " '251-275 BG' '301-325 BG' '326-350 BG' '376-400 BG' '51-75 BG' '-'\n",
            " '601 BG ve üzeri' '50 BG ve altı' '451-475 BG'] \n",
            "\n",
            "Bilmiyorum değeri girilmiş Beygir Gucu sayısı :  5549\n"
          ],
          "name": "stdout"
        }
      ]
    },
    {
      "cell_type": "code",
      "metadata": {
        "colab": {
          "base_uri": "https://localhost:8080/"
        },
        "id": "X23zfeNOpMK5",
        "outputId": "c818d6f4-46d6-402c-fefd-175aab99eda5"
      },
      "source": [
        "df['car_age']=2020-df['Model Yıl']     \r\n",
        "df['car_age'].head()"
      ],
      "execution_count": 29,
      "outputs": [
        {
          "output_type": "execute_result",
          "data": {
            "text/plain": [
              "0     3.0\n",
              "1     5.0\n",
              "2    26.0\n",
              "3     7.0\n",
              "4    10.0\n",
              "Name: car_age, dtype: float64"
            ]
          },
          "metadata": {
            "tags": []
          },
          "execution_count": 29
        }
      ]
    },
    {
      "cell_type": "code",
      "metadata": {
        "colab": {
          "base_uri": "https://localhost:8080/"
        },
        "id": "E00d3hTDpSxY",
        "outputId": "eca114d9-610f-4d55-b67e-93de9ae1e3ee"
      },
      "source": [
        "df.drop(['Model Yıl'], axis=1,inplace=True)   \r\n",
        "df.drop(['İlan Tarihi'],axis=1,inplace=True)\r\n",
        "df.columns"
      ],
      "execution_count": 30,
      "outputs": [
        {
          "output_type": "execute_result",
          "data": {
            "text/plain": [
              "Index(['Marka', 'Arac Tip Grubu', 'Arac Tip', 'Yakıt Turu', 'Vites', 'CCM',\n",
              "       'Beygir Gucu', 'Renk', 'Kasa Tipi', 'Kimden', 'Durum', 'Km', 'Fiyat',\n",
              "       'car_age'],\n",
              "      dtype='object')"
            ]
          },
          "metadata": {
            "tags": []
          },
          "execution_count": 30
        }
      ]
    },
    {
      "cell_type": "code",
      "metadata": {
        "colab": {
          "base_uri": "https://localhost:8080/"
        },
        "id": "AcP9QbUxpY4F",
        "outputId": "0b82f095-8804-4f2e-f743-b7f60c19e555"
      },
      "source": [
        "df['Arac Tip']=df['Arac Tip'].str.replace('-','Diger')\r\n",
        "len(df[df['Arac Tip']=='Diger'])"
      ],
      "execution_count": 31,
      "outputs": [
        {
          "output_type": "execute_result",
          "data": {
            "text/plain": [
              "55"
            ]
          },
          "metadata": {
            "tags": []
          },
          "execution_count": 31
        }
      ]
    },
    {
      "cell_type": "code",
      "metadata": {
        "id": "FWrc_HuM2xsc"
      },
      "source": [
        "CCM_drop=df[df['CCM']=='Bilmiyorum'].index\r\n",
        "df.drop(CCM_drop,axis=0,inplace=True)"
      ],
      "execution_count": 32,
      "outputs": []
    },
    {
      "cell_type": "code",
      "metadata": {
        "colab": {
          "base_uri": "https://localhost:8080/"
        },
        "id": "j_61T3hE3DkZ",
        "outputId": "8904470c-790a-42aa-fc16-1483d0e41fce"
      },
      "source": [
        "\r\n",
        "df.shape\r\n"
      ],
      "execution_count": 33,
      "outputs": [
        {
          "output_type": "execute_result",
          "data": {
            "text/plain": [
              "(8936, 14)"
            ]
          },
          "metadata": {
            "tags": []
          },
          "execution_count": 33
        }
      ]
    },
    {
      "cell_type": "code",
      "metadata": {
        "id": "PmooCxxUpn8a"
      },
      "source": [
        "l_encoder1=LabelEncoder()\r\n",
        "df['Marka']=l_encoder1.fit_transform(df['Marka'])"
      ],
      "execution_count": 35,
      "outputs": []
    },
    {
      "cell_type": "code",
      "metadata": {
        "id": "7syjjE_lpq4b"
      },
      "source": [
        "cars={}\r\n",
        "car_name = list(l_encoder1.inverse_transform([i for i in range(35)]))\r\n",
        "for i,x in enumerate(car_name):\r\n",
        "  if i not in cars.keys():\r\n",
        "    cars[i] =x"
      ],
      "execution_count": 36,
      "outputs": []
    },
    {
      "cell_type": "code",
      "metadata": {
        "colab": {
          "base_uri": "https://localhost:8080/",
          "height": 204
        },
        "id": "ifkcV7cAptYZ",
        "outputId": "717f9154-6fed-46ab-ab5f-add9314a8e83"
      },
      "source": [
        "pd.DataFrame(cars.items(), columns=['label_values', 'car_name']).head()"
      ],
      "execution_count": 37,
      "outputs": [
        {
          "output_type": "execute_result",
          "data": {
            "text/html": [
              "<div>\n",
              "<style scoped>\n",
              "    .dataframe tbody tr th:only-of-type {\n",
              "        vertical-align: middle;\n",
              "    }\n",
              "\n",
              "    .dataframe tbody tr th {\n",
              "        vertical-align: top;\n",
              "    }\n",
              "\n",
              "    .dataframe thead th {\n",
              "        text-align: right;\n",
              "    }\n",
              "</style>\n",
              "<table border=\"1\" class=\"dataframe\">\n",
              "  <thead>\n",
              "    <tr style=\"text-align: right;\">\n",
              "      <th></th>\n",
              "      <th>label_values</th>\n",
              "      <th>car_name</th>\n",
              "    </tr>\n",
              "  </thead>\n",
              "  <tbody>\n",
              "    <tr>\n",
              "      <th>0</th>\n",
              "      <td>0</td>\n",
              "      <td>Acura</td>\n",
              "    </tr>\n",
              "    <tr>\n",
              "      <th>1</th>\n",
              "      <td>1</td>\n",
              "      <td>Alfa Romeo</td>\n",
              "    </tr>\n",
              "    <tr>\n",
              "      <th>2</th>\n",
              "      <td>2</td>\n",
              "      <td>Audi</td>\n",
              "    </tr>\n",
              "    <tr>\n",
              "      <th>3</th>\n",
              "      <td>3</td>\n",
              "      <td>BMW</td>\n",
              "    </tr>\n",
              "    <tr>\n",
              "      <th>4</th>\n",
              "      <td>4</td>\n",
              "      <td>Chevrolet</td>\n",
              "    </tr>\n",
              "  </tbody>\n",
              "</table>\n",
              "</div>"
            ],
            "text/plain": [
              "   label_values    car_name\n",
              "0             0       Acura\n",
              "1             1  Alfa Romeo\n",
              "2             2        Audi\n",
              "3             3         BMW\n",
              "4             4   Chevrolet"
            ]
          },
          "metadata": {
            "tags": []
          },
          "execution_count": 37
        }
      ]
    },
    {
      "cell_type": "code",
      "metadata": {
        "id": "eVTmG8TOpyPp"
      },
      "source": [
        "l_encoder = LabelEncoder()\r\n",
        "columns = ['Arac Tip Grubu', 'Arac Tip','Yakıt Turu', 'Vites', 'CCM', 'Beygir Gucu', 'Renk', 'Kasa Tipi','Kimden', 'Durum']\r\n",
        "for i in columns:\r\n",
        "  df[i]=l_encoder.fit_transform(df[i])"
      ],
      "execution_count": 38,
      "outputs": []
    },
    {
      "cell_type": "code",
      "metadata": {
        "colab": {
          "base_uri": "https://localhost:8080/",
          "height": 221
        },
        "id": "Edam4uEYp1jA",
        "outputId": "8745bb01-df01-4cbb-9959-2512372795bb"
      },
      "source": [
        "df.head()"
      ],
      "execution_count": 39,
      "outputs": [
        {
          "output_type": "execute_result",
          "data": {
            "text/html": [
              "<div>\n",
              "<style scoped>\n",
              "    .dataframe tbody tr th:only-of-type {\n",
              "        vertical-align: middle;\n",
              "    }\n",
              "\n",
              "    .dataframe tbody tr th {\n",
              "        vertical-align: top;\n",
              "    }\n",
              "\n",
              "    .dataframe thead th {\n",
              "        text-align: right;\n",
              "    }\n",
              "</style>\n",
              "<table border=\"1\" class=\"dataframe\">\n",
              "  <thead>\n",
              "    <tr style=\"text-align: right;\">\n",
              "      <th></th>\n",
              "      <th>Marka</th>\n",
              "      <th>Arac Tip Grubu</th>\n",
              "      <th>Arac Tip</th>\n",
              "      <th>Yakıt Turu</th>\n",
              "      <th>Vites</th>\n",
              "      <th>CCM</th>\n",
              "      <th>Beygir Gucu</th>\n",
              "      <th>Renk</th>\n",
              "      <th>Kasa Tipi</th>\n",
              "      <th>Kimden</th>\n",
              "      <th>Durum</th>\n",
              "      <th>Km</th>\n",
              "      <th>Fiyat</th>\n",
              "      <th>car_age</th>\n",
              "    </tr>\n",
              "  </thead>\n",
              "  <tbody>\n",
              "    <tr>\n",
              "      <th>0</th>\n",
              "      <td>15</td>\n",
              "      <td>374</td>\n",
              "      <td>1082</td>\n",
              "      <td>2</td>\n",
              "      <td>1</td>\n",
              "      <td>4</td>\n",
              "      <td>5</td>\n",
              "      <td>17</td>\n",
              "      <td>5</td>\n",
              "      <td>0</td>\n",
              "      <td>1</td>\n",
              "      <td>26100</td>\n",
              "      <td>634500</td>\n",
              "      <td>3.0</td>\n",
              "    </tr>\n",
              "    <tr>\n",
              "      <th>1</th>\n",
              "      <td>0</td>\n",
              "      <td>126</td>\n",
              "      <td>1612</td>\n",
              "      <td>2</td>\n",
              "      <td>2</td>\n",
              "      <td>2</td>\n",
              "      <td>2</td>\n",
              "      <td>18</td>\n",
              "      <td>9</td>\n",
              "      <td>1</td>\n",
              "      <td>1</td>\n",
              "      <td>127000</td>\n",
              "      <td>151500</td>\n",
              "      <td>5.0</td>\n",
              "    </tr>\n",
              "    <tr>\n",
              "      <th>2</th>\n",
              "      <td>0</td>\n",
              "      <td>126</td>\n",
              "      <td>1171</td>\n",
              "      <td>1</td>\n",
              "      <td>0</td>\n",
              "      <td>2</td>\n",
              "      <td>2</td>\n",
              "      <td>23</td>\n",
              "      <td>9</td>\n",
              "      <td>1</td>\n",
              "      <td>1</td>\n",
              "      <td>175000</td>\n",
              "      <td>19750</td>\n",
              "      <td>26.0</td>\n",
              "    </tr>\n",
              "    <tr>\n",
              "      <th>3</th>\n",
              "      <td>0</td>\n",
              "      <td>126</td>\n",
              "      <td>1612</td>\n",
              "      <td>2</td>\n",
              "      <td>0</td>\n",
              "      <td>2</td>\n",
              "      <td>17</td>\n",
              "      <td>13</td>\n",
              "      <td>9</td>\n",
              "      <td>1</td>\n",
              "      <td>1</td>\n",
              "      <td>325</td>\n",
              "      <td>52000</td>\n",
              "      <td>7.0</td>\n",
              "    </tr>\n",
              "    <tr>\n",
              "      <th>4</th>\n",
              "      <td>0</td>\n",
              "      <td>126</td>\n",
              "      <td>1171</td>\n",
              "      <td>2</td>\n",
              "      <td>1</td>\n",
              "      <td>4</td>\n",
              "      <td>4</td>\n",
              "      <td>4</td>\n",
              "      <td>9</td>\n",
              "      <td>1</td>\n",
              "      <td>1</td>\n",
              "      <td>207000</td>\n",
              "      <td>148750</td>\n",
              "      <td>10.0</td>\n",
              "    </tr>\n",
              "  </tbody>\n",
              "</table>\n",
              "</div>"
            ],
            "text/plain": [
              "   Marka  Arac Tip Grubu  Arac Tip  Yakıt Turu  ...  Durum      Km   Fiyat  car_age\n",
              "0     15             374      1082           2  ...      1   26100  634500      3.0\n",
              "1      0             126      1612           2  ...      1  127000  151500      5.0\n",
              "2      0             126      1171           1  ...      1  175000   19750     26.0\n",
              "3      0             126      1612           2  ...      1     325   52000      7.0\n",
              "4      0             126      1171           2  ...      1  207000  148750     10.0\n",
              "\n",
              "[5 rows x 14 columns]"
            ]
          },
          "metadata": {
            "tags": []
          },
          "execution_count": 39
        }
      ]
    },
    {
      "cell_type": "code",
      "metadata": {
        "colab": {
          "base_uri": "https://localhost:8080/"
        },
        "id": "c3nCnnqjqS48",
        "outputId": "b9b39ed0-e3ba-49f7-cf12-0a8e12f18f15"
      },
      "source": [
        "q1 = df[\"Fiyat\"].quantile(0.25)\r\n",
        "q3 = df[\"Fiyat\"].quantile(0.75)      \r\n",
        "\r\n",
        "IOC = q3 - q1\r\n",
        "\r\n",
        "alt_sınır = q1 - 1.5*IOC\r\n",
        "üst_sınır = q3 + 1.5*IOC\r\n",
        "\r\n",
        "sınır = (df[\"Fiyat\"] < alt_sınır) | (df[\"Fiyat\"] > üst_sınır)\r\n",
        "df[\"Aykırı_Deger\"] = sınır\r\n",
        "print('Aykırı Değer Sayısı =>\\n',df[\"Aykırı_Deger\"].value_counts())\r\n",
        "df = df.loc[df[\"Aykırı_Deger\"] == False]\r\n",
        "del df[\"Aykırı_Deger\"]"
      ],
      "execution_count": 43,
      "outputs": [
        {
          "output_type": "stream",
          "text": [
            "Aykırı Değer Sayısı =>\n",
            " False    8189\n",
            "True      747\n",
            "Name: Aykırı_Deger, dtype: int64\n"
          ],
          "name": "stdout"
        }
      ]
    },
    {
      "cell_type": "code",
      "metadata": {
        "id": "fLREHzfFqc7s"
      },
      "source": [
        "\r\n",
        "y=df['Fiyat']\r\n",
        "x=df.drop(['Fiyat'],axis=1)"
      ],
      "execution_count": 44,
      "outputs": []
    },
    {
      "cell_type": "code",
      "metadata": {
        "colab": {
          "base_uri": "https://localhost:8080/",
          "height": 221
        },
        "id": "SutQ6pEaqftd",
        "outputId": "2c31b8e7-d0a9-4221-f00c-231d7fab3efd"
      },
      "source": [
        "\r\n",
        "x_train, x_test, y_train, y_test = train_test_split(x, y, test_size = 0.20, random_state = 42)\r\n",
        "x_train.head()"
      ],
      "execution_count": 45,
      "outputs": [
        {
          "output_type": "execute_result",
          "data": {
            "text/html": [
              "<div>\n",
              "<style scoped>\n",
              "    .dataframe tbody tr th:only-of-type {\n",
              "        vertical-align: middle;\n",
              "    }\n",
              "\n",
              "    .dataframe tbody tr th {\n",
              "        vertical-align: top;\n",
              "    }\n",
              "\n",
              "    .dataframe thead th {\n",
              "        text-align: right;\n",
              "    }\n",
              "</style>\n",
              "<table border=\"1\" class=\"dataframe\">\n",
              "  <thead>\n",
              "    <tr style=\"text-align: right;\">\n",
              "      <th></th>\n",
              "      <th>Marka</th>\n",
              "      <th>Arac Tip Grubu</th>\n",
              "      <th>Arac Tip</th>\n",
              "      <th>Yakıt Turu</th>\n",
              "      <th>Vites</th>\n",
              "      <th>CCM</th>\n",
              "      <th>Beygir Gucu</th>\n",
              "      <th>Renk</th>\n",
              "      <th>Kasa Tipi</th>\n",
              "      <th>Kimden</th>\n",
              "      <th>Durum</th>\n",
              "      <th>Km</th>\n",
              "      <th>car_age</th>\n",
              "    </tr>\n",
              "  </thead>\n",
              "  <tbody>\n",
              "    <tr>\n",
              "      <th>4243</th>\n",
              "      <td>19</td>\n",
              "      <td>192</td>\n",
              "      <td>1746</td>\n",
              "      <td>0</td>\n",
              "      <td>2</td>\n",
              "      <td>4</td>\n",
              "      <td>7.0</td>\n",
              "      <td>4</td>\n",
              "      <td>0</td>\n",
              "      <td>0</td>\n",
              "      <td>1</td>\n",
              "      <td>76000</td>\n",
              "      <td>7.0</td>\n",
              "    </tr>\n",
              "    <tr>\n",
              "      <th>2447</th>\n",
              "      <td>9</td>\n",
              "      <td>190</td>\n",
              "      <td>888</td>\n",
              "      <td>2</td>\n",
              "      <td>0</td>\n",
              "      <td>7</td>\n",
              "      <td>17.0</td>\n",
              "      <td>4</td>\n",
              "      <td>9</td>\n",
              "      <td>0</td>\n",
              "      <td>1</td>\n",
              "      <td>130000</td>\n",
              "      <td>5.0</td>\n",
              "    </tr>\n",
              "    <tr>\n",
              "      <th>2332</th>\n",
              "      <td>8</td>\n",
              "      <td>255</td>\n",
              "      <td>553</td>\n",
              "      <td>1</td>\n",
              "      <td>0</td>\n",
              "      <td>2</td>\n",
              "      <td>2.0</td>\n",
              "      <td>11</td>\n",
              "      <td>9</td>\n",
              "      <td>1</td>\n",
              "      <td>1</td>\n",
              "      <td>216000</td>\n",
              "      <td>16.0</td>\n",
              "    </tr>\n",
              "    <tr>\n",
              "      <th>3417</th>\n",
              "      <td>12</td>\n",
              "      <td>382</td>\n",
              "      <td>59</td>\n",
              "      <td>1</td>\n",
              "      <td>0</td>\n",
              "      <td>1</td>\n",
              "      <td>15.0</td>\n",
              "      <td>11</td>\n",
              "      <td>5</td>\n",
              "      <td>1</td>\n",
              "      <td>1</td>\n",
              "      <td>111000</td>\n",
              "      <td>9.0</td>\n",
              "    </tr>\n",
              "    <tr>\n",
              "      <th>539</th>\n",
              "      <td>3</td>\n",
              "      <td>41</td>\n",
              "      <td>1304</td>\n",
              "      <td>0</td>\n",
              "      <td>1</td>\n",
              "      <td>3</td>\n",
              "      <td>3.0</td>\n",
              "      <td>9</td>\n",
              "      <td>9</td>\n",
              "      <td>0</td>\n",
              "      <td>1</td>\n",
              "      <td>50000</td>\n",
              "      <td>5.0</td>\n",
              "    </tr>\n",
              "  </tbody>\n",
              "</table>\n",
              "</div>"
            ],
            "text/plain": [
              "      Marka  Arac Tip Grubu  Arac Tip  ...  Durum      Km  car_age\n",
              "4243     19             192      1746  ...      1   76000      7.0\n",
              "2447      9             190       888  ...      1  130000      5.0\n",
              "2332      8             255       553  ...      1  216000     16.0\n",
              "3417     12             382        59  ...      1  111000      9.0\n",
              "539       3              41      1304  ...      1   50000      5.0\n",
              "\n",
              "[5 rows x 13 columns]"
            ]
          },
          "metadata": {
            "tags": []
          },
          "execution_count": 45
        }
      ]
    },
    {
      "cell_type": "code",
      "metadata": {
        "id": "_CBAcylXqoPO"
      },
      "source": [
        "\r\n",
        "sc_X = StandardScaler()\r\n",
        "x_train = sc_X.fit_transform(x_train)\r\n",
        "x_test = sc_X.transform(x_test)"
      ],
      "execution_count": 46,
      "outputs": []
    },
    {
      "cell_type": "code",
      "metadata": {
        "colab": {
          "base_uri": "https://localhost:8080/"
        },
        "id": "15umpTRoqxgG",
        "outputId": "788fa2fd-0c67-41a5-c614-e56b466e362f"
      },
      "source": [
        "\r\n",
        "modeller=[]\r\n",
        "scores=[]\r\n",
        "def compML(alg,x_train,y_train,x_test,y_test):\r\n",
        "    model=alg().fit(x_train,y_train)\r\n",
        "    y_pred=model.predict(x_test)\r\n",
        "    RMSE= np.sqrt(mean_squared_error(y_test,y_pred))\r\n",
        "    model_ismi= alg.__name__\r\n",
        "    model_score = model.score(x_test,y_test)\r\n",
        "    scores.append(model_score*100 if model_score > 0 else 0)\r\n",
        "    modeller.append(model_ismi)\r\n",
        "    print(model_ismi ,\" Modeli Test Hatası => \", RMSE,' |  Model Score => ', model_score*100)\r\n",
        "\r\n",
        "models=[LGBMRegressor, Lasso,\r\n",
        "        XGBRegressor, LinearRegression,\r\n",
        "        GradientBoostingRegressor,\r\n",
        "        RandomForestRegressor, ElasticNet,\r\n",
        "        DecisionTreeRegressor, Ridge,\r\n",
        "        MLPRegressor,\r\n",
        "        KNeighborsRegressor, \r\n",
        "        SVR]\r\n",
        "\r\n",
        "for i in models:\r\n",
        "    compML(i,x_train,y_train,x_test,y_test) "
      ],
      "execution_count": 47,
      "outputs": [
        {
          "output_type": "stream",
          "text": [
            "LGBMRegressor  Modeli Test Hatası =>  14831.18488609659  |  Model Score =>  93.9174304981272\n",
            "Lasso  Modeli Test Hatası =>  35395.81300803671  |  Model Score =>  65.35511161271837\n",
            "[11:58:10] WARNING: /workspace/src/objective/regression_obj.cu:152: reg:linear is now deprecated in favor of reg:squarederror.\n",
            "XGBRegressor  Modeli Test Hatası =>  20481.764326106415  |  Model Score =>  88.39967620847757\n",
            "LinearRegression  Modeli Test Hatası =>  35395.83346156064  |  Model Score =>  65.3550715735048\n",
            "GradientBoostingRegressor  Modeli Test Hatası =>  20503.133059996027  |  Model Score =>  88.37545822240412\n",
            "RandomForestRegressor  Modeli Test Hatası =>  15860.857812594206  |  Model Score =>  93.04353305255256\n",
            "ElasticNet  Modeli Test Hatası =>  37556.190703509055  |  Model Score =>  60.99696042757766\n",
            "DecisionTreeRegressor  Modeli Test Hatası =>  22986.474909045977  |  Model Score =>  85.38899354544837\n",
            "Ridge  Modeli Test Hatası =>  35395.75611704878  |  Model Score =>  65.35522298071224\n",
            "MLPRegressor  Modeli Test Hatası =>  104244.7938107857  |  Model Score =>  -200.49976150857773\n",
            "KNeighborsRegressor  Modeli Test Hatası =>  24926.557007995896  |  Model Score =>  82.81854363991087\n",
            "SVR  Modeli Test Hatası =>  62110.89905040295  |  Model Score =>  -6.677053995016213\n"
          ],
          "name": "stdout"
        }
      ]
    },
    {
      "cell_type": "code",
      "metadata": {
        "colab": {
          "base_uri": "https://localhost:8080/",
          "height": 568
        },
        "id": "3NeNTbBRq4dm",
        "outputId": "e1e97476-1f47-4db0-df50-94f0d3e078a6"
      },
      "source": [
        "\r\n",
        "\r\n",
        "plt.figure(figsize=(15,10))\r\n",
        "ax = sns.barplot(x=scores, y=modeller, palette=\"ch:4.5,-.7,dark=.3\")\r\n",
        "ax.set_title(\"Model-Skor Tablosu\")\r\n",
        "ax.set_ylabel(\"Modeller\")\r\n",
        "ax.set_ylabel(\"Score\")\r\n",
        "plt.show()"
      ],
      "execution_count": 48,
      "outputs": [
        {
          "output_type": "display_data",
          "data": {
            "image/png": "[encoded data removed]",
            "text/plain": [
              "<Figure size 1080x720 with 1 Axes>"
            ]
          },
          "metadata": {
            "tags": [],
            "needs_background": "light"
          }
        }
      ]
    },
    {
      "cell_type": "code",
      "metadata": {
        "colab": {
          "base_uri": "https://localhost:8080/"
        },
        "id": "5r9zxfiqrAkZ",
        "outputId": "3d55c4bc-170d-460c-b6ed-8029ee3fb060"
      },
      "source": [
        "lgbm=LGBMRegressor()     \r\n",
        "lgbm.fit(x_train,y_train)\r\n",
        "\r\n",
        "lgbm_pred = lgbm.predict(x_test)\r\n",
        "\r\n",
        "model_score = lgbm.score(x_test,y_test)\r\n",
        "r2_skor = r2_score(y_test, lgbm_pred)\r\n",
        "hata_skor = np.sqrt(mean_squared_error(y_test, lgbm_pred))\r\n",
        "ev = metrics.explained_variance_score(y_test, lgbm_pred)\r\n",
        "\r\n",
        "print(\"Model Score: \", model_score*100)\r\n",
        "print(\"R2_skoru: \", r2_skor)\r\n",
        "print(\"Hata Kare: \", hata_skor)\r\n",
        "print(\"Explained Variance : \", ev)"
      ],
      "execution_count": 49,
      "outputs": [
        {
          "output_type": "stream",
          "text": [
            "Model Score:  93.9174304981272\n",
            "R2_skoru:  0.9391743049812722\n",
            "Hata Kare:  14831.18488609659\n",
            "Explained Variance :  0.9391743241100291\n"
          ],
          "name": "stdout"
        }
      ]
    },
    {
      "cell_type": "code",
      "metadata": {
        "colab": {
          "base_uri": "https://localhost:8080/"
        },
        "id": "plLeaHRRrF01",
        "outputId": "b66db43f-3451-47c9-ca21-64842ea1965b"
      },
      "source": [
        "lgbm_params={'learning_rate':[0.01, 0.1, 0.5],   \r\n",
        "            'n_estimators':[200,500,1000],\r\n",
        "            'max_depth':[5, 7, 10],\r\n",
        "             'colsample_bytree':[0.7, 0.9, 1.0],\r\n",
        "             'subsample': [0.4, 0.5, 0.6, 0.7]\r\n",
        "             }\r\n",
        "lgbm_cv_model=GridSearchCV(lgbm,lgbm_params,cv=10,n_jobs=-1,verbose=2).fit(x_train,y_train)"
      ],
      "execution_count": 50,
      "outputs": [
        {
          "output_type": "stream",
          "text": [
            "Fitting 10 folds for each of 324 candidates, totalling 3240 fits\n"
          ],
          "name": "stdout"
        },
        {
          "output_type": "stream",
          "text": [
            "[Parallel(n_jobs=-1)]: Using backend LokyBackend with 2 concurrent workers.\n",
            "[Parallel(n_jobs=-1)]: Done  37 tasks      | elapsed:    7.8s\n",
            "[Parallel(n_jobs=-1)]: Done 158 tasks      | elapsed:  1.0min\n",
            "[Parallel(n_jobs=-1)]: Done 361 tasks      | elapsed:  3.2min\n",
            "[Parallel(n_jobs=-1)]: Done 644 tasks      | elapsed:  4.9min\n",
            "[Parallel(n_jobs=-1)]: Done 1009 tasks      | elapsed:  7.6min\n",
            "[Parallel(n_jobs=-1)]: Done 1454 tasks      | elapsed: 11.9min\n",
            "[Parallel(n_jobs=-1)]: Done 1981 tasks      | elapsed: 15.8min\n",
            "[Parallel(n_jobs=-1)]: Done 2588 tasks      | elapsed: 21.7min\n",
            "[Parallel(n_jobs=-1)]: Done 3240 out of 3240 | elapsed: 27.6min finished\n"
          ],
          "name": "stderr"
        }
      ]
    },
    {
      "cell_type": "code",
      "metadata": {
        "colab": {
          "base_uri": "https://localhost:8080/"
        },
        "id": "4WcDhW7Pyhi_",
        "outputId": "f0c494e8-9b88-4f4e-dcd2-4f4de7ae9607"
      },
      "source": [
        "\r\n",
        "lgbm_cv_model.best_params_"
      ],
      "execution_count": 51,
      "outputs": [
        {
          "output_type": "execute_result",
          "data": {
            "text/plain": [
              "{'colsample_bytree': 0.9,\n",
              " 'learning_rate': 0.1,\n",
              " 'max_depth': 10,\n",
              " 'n_estimators': 500,\n",
              " 'subsample': 0.4}"
            ]
          },
          "metadata": {
            "tags": []
          },
          "execution_count": 51
        }
      ]
    },
    {
      "cell_type": "code",
      "metadata": {
        "colab": {
          "base_uri": "https://localhost:8080/"
        },
        "id": "f55-zZhYymnd",
        "outputId": "fb33aa5d-3c03-41e6-9023-61c8ed86e72a"
      },
      "source": [
        "lgbm_tuned=LGBMRegressor(learning_rate = lgbm_cv_model.best_params_['learning_rate'],\r\n",
        "                        max_depth = lgbm_cv_model.best_params_['max_depth'],\r\n",
        "                        n_estimators = lgbm_cv_model.best_params_['n_estimators'],\r\n",
        "                        colsample_bytree = lgbm_cv_model.best_params_['colsample_bytree'],\r\n",
        "                        subsample=lgbm_cv_model.best_params_['subsample']).fit(x_train,y_train)\r\n",
        "\r\n",
        "y_pred=lgbm_tuned.predict(x_test)\r\n",
        "\r\n",
        "model_score = lgbm_tuned.score(x_test,y_test)\r\n",
        "r2_skor = r2_score(y_test, y_pred)\r\n",
        "hata_skor = np.sqrt(mean_squared_error(y_test, y_pred))\r\n",
        "adjusted_r2_skor = 1 - (1-r2_skor)*(len(y_test)-1)/(len(y_test)-x_test.shape[1]-1)\r\n",
        "ev = metrics.explained_variance_score(y_test, y_pred)\r\n",
        "\r\n",
        "print(\"Model scoru : \", model_score*100)\r\n",
        "print(\"R2_skoru: \", r2_skor)\r\n",
        "print(\"Hata Kare: \", hata_skor)\r\n",
        "print(\"Adjusted_R2_skoru : \", adjusted_r2_skor)\r\n",
        "print(\"Explained Variance : \", ev)\r\n"
      ],
      "execution_count": 52,
      "outputs": [
        {
          "output_type": "stream",
          "text": [
            "Model scoru :  94.72769638319976\n",
            "R2_skoru:  0.9472769638319976\n",
            "Hata Kare:  13808.05521076068\n",
            "Adjusted_R2_skoru :  0.9468549198232635\n",
            "Explained Variance :  0.9472886515936138\n"
          ],
          "name": "stdout"
        }
      ]
    },
    {
      "cell_type": "code",
      "metadata": {
        "colab": {
          "base_uri": "https://localhost:8080/",
          "height": 296
        },
        "id": "C2dw-mz8ypu-",
        "outputId": "28f7da97-18a1-4af8-d2b4-2a1317cb1327"
      },
      "source": [
        "\r\n",
        "sns.scatterplot(x=y_test,y=y_pred)"
      ],
      "execution_count": 53,
      "outputs": [
        {
          "output_type": "execute_result",
          "data": {
            "text/plain": [
              "<matplotlib.axes._subplots.AxesSubplot at 0x7f657f8b44a8>"
            ]
          },
          "metadata": {
            "tags": []
          },
          "execution_count": 53
        },
        {
          "output_type": "display_data",
          "data": {
            "image/png": "[encoded data removed]",
            "text/plain": [
              "<Figure size 432x288 with 1 Axes>"
            ]
          },
          "metadata": {
            "tags": [],
            "needs_background": "light"
          }
        }
      ]
    },
    {
      "cell_type": "code",
      "metadata": {
        "colab": {
          "base_uri": "https://localhost:8080/",
          "height": 458
        },
        "id": "Qxy-p37Uy1P-",
        "outputId": "1bd6255b-52c8-423c-da17-ac6c9114deba"
      },
      "source": [
        "sns.jointplot(x=y_test, y=y_pred,  kind='reg',\r\n",
        "                  joint_kws={'line_kws':{'color':'cyan'}})"
      ],
      "execution_count": 54,
      "outputs": [
        {
          "output_type": "execute_result",
          "data": {
            "text/plain": [
              "<seaborn.axisgrid.JointGrid at 0x7f657f8b4b00>"
            ]
          },
          "metadata": {
            "tags": []
          },
          "execution_count": 54
        },
        {
          "output_type": "display_data",
          "data": {
            "image/png": "[encoded data removed]",
            "text/plain": [
              "<Figure size 432x432 with 3 Axes>"
            ]
          },
          "metadata": {
            "tags": [],
            "needs_background": "light"
          }
        }
      ]
    },
    {
      "cell_type": "code",
      "metadata": {
        "id": "QyuAfHH0C6ZE"
      },
      "source": [
        "\r\n",
        "real_pred = pd.DataFrame({'Gerçek Fiyat': np.array(y_test).flatten(), 'Tahmini Fiyat': y_pred.flatten(),'Fark':np.array(y_test).flatten()-y_pred.flatten()})\r\n",
        "real_pred.Fark=round(real_pred.Fark)\r\n"
      ],
      "execution_count": 69,
      "outputs": []
    },
    {
      "cell_type": "code",
      "metadata": {
        "id": "HeEvIGHjhdXY",
        "outputId": "99d9d9fa-bebd-488c-e57c-e4137c5184d5",
        "colab": {
          "base_uri": "https://localhost:8080/"
        }
      },
      "source": [
        "\r\n",
        "real_pred['Yuzdelik_Fark']=100*(1-(real_pred['Gerçek Fiyat']/real_pred['Tahmini Fiyat']))\r\n",
        "real_pred.Yuzdelik_Fark=round(real_pred.Yuzdelik_Fark)\r\n",
        "real_pred['Yuzdelik_Fark'].head()\r\n",
        "\r\n"
      ],
      "execution_count": 72,
      "outputs": [
        {
          "output_type": "execute_result",
          "data": {
            "text/plain": [
              "0   -12.0\n",
              "1     4.0\n",
              "2     5.0\n",
              "3     1.0\n",
              "4   -37.0\n",
              "Name: Yuzdelik_Fark, dtype: float64"
            ]
          },
          "metadata": {
            "tags": []
          },
          "execution_count": 72
        }
      ]
    },
    {
      "cell_type": "code",
      "metadata": {
        "id": "4aJxvWfhhEwQ",
        "outputId": "02e84c2a-3826-4ab2-ba01-831af75f06ba",
        "colab": {
          "base_uri": "https://localhost:8080/",
          "height": 204
        }
      },
      "source": [
        "real_pred.head()"
      ],
      "execution_count": 73,
      "outputs": [
        {
          "output_type": "execute_result",
          "data": {
            "text/html": [
              "<div>\n",
              "<style scoped>\n",
              "    .dataframe tbody tr th:only-of-type {\n",
              "        vertical-align: middle;\n",
              "    }\n",
              "\n",
              "    .dataframe tbody tr th {\n",
              "        vertical-align: top;\n",
              "    }\n",
              "\n",
              "    .dataframe thead th {\n",
              "        text-align: right;\n",
              "    }\n",
              "</style>\n",
              "<table border=\"1\" class=\"dataframe\">\n",
              "  <thead>\n",
              "    <tr style=\"text-align: right;\">\n",
              "      <th></th>\n",
              "      <th>Gerçek Fiyat</th>\n",
              "      <th>Tahmini Fiyat</th>\n",
              "      <th>Fark</th>\n",
              "      <th>Yuzdelik_Fark</th>\n",
              "    </tr>\n",
              "  </thead>\n",
              "  <tbody>\n",
              "    <tr>\n",
              "      <th>0</th>\n",
              "      <td>60000</td>\n",
              "      <td>53726.354250</td>\n",
              "      <td>6274.0</td>\n",
              "      <td>-12.0</td>\n",
              "    </tr>\n",
              "    <tr>\n",
              "      <th>1</th>\n",
              "      <td>79750</td>\n",
              "      <td>83099.037386</td>\n",
              "      <td>-3349.0</td>\n",
              "      <td>4.0</td>\n",
              "    </tr>\n",
              "    <tr>\n",
              "      <th>2</th>\n",
              "      <td>64000</td>\n",
              "      <td>67548.646150</td>\n",
              "      <td>-3549.0</td>\n",
              "      <td>5.0</td>\n",
              "    </tr>\n",
              "    <tr>\n",
              "      <th>3</th>\n",
              "      <td>55900</td>\n",
              "      <td>56456.296692</td>\n",
              "      <td>-556.0</td>\n",
              "      <td>1.0</td>\n",
              "    </tr>\n",
              "    <tr>\n",
              "      <th>4</th>\n",
              "      <td>79000</td>\n",
              "      <td>57827.140995</td>\n",
              "      <td>21173.0</td>\n",
              "      <td>-37.0</td>\n",
              "    </tr>\n",
              "  </tbody>\n",
              "</table>\n",
              "</div>"
            ],
            "text/plain": [
              "   Gerçek Fiyat  Tahmini Fiyat     Fark  Yuzdelik_Fark\n",
              "0         60000   53726.354250   6274.0          -12.0\n",
              "1         79750   83099.037386  -3349.0            4.0\n",
              "2         64000   67548.646150  -3549.0            5.0\n",
              "3         55900   56456.296692   -556.0            1.0\n",
              "4         79000   57827.140995  21173.0          -37.0"
            ]
          },
          "metadata": {
            "tags": []
          },
          "execution_count": 73
        }
      ]
    },
    {
      "cell_type": "code",
      "metadata": {
        "id": "0z9o3OXYEgtL"
      },
      "source": [
        "\r\n",
        "result = pd.concat([df, real_pred], axis=1, join=\"inner\")\r\n"
      ],
      "execution_count": 89,
      "outputs": []
    },
    {
      "cell_type": "code",
      "metadata": {
        "id": "TrNgHl1kL9rG"
      },
      "source": [
        "tahmin=result.head(10)"
      ],
      "execution_count": 116,
      "outputs": []
    },
    {
      "cell_type": "code",
      "metadata": {
        "id": "u-dOy4wmM_MK"
      },
      "source": [
        "tahmin['Arac Tip Grubu'] = tahmin['Arac Tip Grubu'].map({126:'CL',306:'RSX',359:'Tucson',209:'Giulietta',11:'147',263:'Mito',167:'Giulietta'})"
      ],
      "execution_count": 117,
      "outputs": []
    },
    {
      "cell_type": "code",
      "metadata": {
        "id": "NAc3IKDPREZt"
      },
      "source": [
        "tahmin['Yakıt Turu'] = tahmin['Yakıt Turu'].map({2:'Dizel',1:'Benzin/LPG',4:'Hibrit'})\r\n"
      ],
      "execution_count": 118,
      "outputs": []
    },
    {
      "cell_type": "code",
      "metadata": {
        "id": "BCTNWoSiRfh_"
      },
      "source": [
        "tahmin['Vites'] = tahmin['Vites'].map({0:'Düz Vites',1:'Otomatik Vites',2:'Yarı Otomatik Vites'})\r\n"
      ],
      "execution_count": 119,
      "outputs": []
    },
    {
      "cell_type": "code",
      "metadata": {
        "id": "hK1xspUYSGvd"
      },
      "source": [
        "tahmin['CCM'] = tahmin['CCM'].map({4:'1801-2000 cc',1:'1300 cc ve altı',2:'1301-1600 cc',3:'1601-1800 cc'})"
      ],
      "execution_count": 121,
      "outputs": []
    },
    {
      "cell_type": "code",
      "metadata": {
        "id": "tenVViYbStbD"
      },
      "source": [
        "tahmin['Beygir Gucu'] = tahmin['Beygir Gucu'].map({2.0:'101-125 BG',17.0:'76-100 BG',4.0:'151-175 BG',1.0:'100 BG ve altı'})\r\n"
      ],
      "execution_count": 122,
      "outputs": []
    },
    {
      "cell_type": "code",
      "metadata": {
        "id": "bVmIeveqTTsE"
      },
      "source": [
        "tahmin['Renk'] = tahmin['Renk'].map({18:'Mavi',23:'Turkuaz',13:'Kahverengi',4:'Beyaz',17:'Lacivert',16:'Kırmızı',9:'Gri',22:'Siyah'})"
      ],
      "execution_count": 123,
      "outputs": []
    },
    {
      "cell_type": "code",
      "metadata": {
        "id": "SXqkAWn6UjO8"
      },
      "source": [
        "tahmin['Kasa Tipi'] = tahmin['Kasa Tipi'].map({9:'Sedan',8:'Roadster',5:'Hatchback 5 Kapı'})\r\n"
      ],
      "execution_count": 124,
      "outputs": []
    },
    {
      "cell_type": "code",
      "metadata": {
        "id": "YuBbiGnoU8Wn"
      },
      "source": [
        "tahmin['Kimden'] = tahmin['Kimden'].map({1:'Sahibinden',0:'Galeriden',2:'Yetkili'})"
      ],
      "execution_count": 125,
      "outputs": []
    },
    {
      "cell_type": "code",
      "metadata": {
        "id": "ep1swicWU8ln"
      },
      "source": [
        "tahmin['Durum'] = tahmin['Durum'].map({1:'2. El',0:'0 KM'})"
      ],
      "execution_count": 126,
      "outputs": []
    },
    {
      "cell_type": "code",
      "metadata": {
        "id": "ZQ0pShE9Qqkd",
        "colab": {
          "base_uri": "https://localhost:8080/",
          "height": 753
        },
        "outputId": "1e49a757-fa27-48a4-8009-36207f70a373"
      },
      "source": [
        "\r\n",
        "tahmin.head(10)"
      ],
      "execution_count": 127,
      "outputs": [
        {
          "output_type": "execute_result",
          "data": {
            "text/html": [
              "<div>\n",
              "<style scoped>\n",
              "    .dataframe tbody tr th:only-of-type {\n",
              "        vertical-align: middle;\n",
              "    }\n",
              "\n",
              "    .dataframe tbody tr th {\n",
              "        vertical-align: top;\n",
              "    }\n",
              "\n",
              "    .dataframe thead th {\n",
              "        text-align: right;\n",
              "    }\n",
              "</style>\n",
              "<table border=\"1\" class=\"dataframe\">\n",
              "  <thead>\n",
              "    <tr style=\"text-align: right;\">\n",
              "      <th></th>\n",
              "      <th>Marka</th>\n",
              "      <th>Arac Tip Grubu</th>\n",
              "      <th>Arac Tip</th>\n",
              "      <th>Yakıt Turu</th>\n",
              "      <th>Vites</th>\n",
              "      <th>CCM</th>\n",
              "      <th>Beygir Gucu</th>\n",
              "      <th>Renk</th>\n",
              "      <th>Kasa Tipi</th>\n",
              "      <th>Kimden</th>\n",
              "      <th>Durum</th>\n",
              "      <th>Km</th>\n",
              "      <th>Fiyat</th>\n",
              "      <th>car_age</th>\n",
              "      <th>Gerçek Fiyat</th>\n",
              "      <th>Tahmini Fiyat</th>\n",
              "      <th>Fark</th>\n",
              "      <th>Yuzdelik_Fark</th>\n",
              "    </tr>\n",
              "  </thead>\n",
              "  <tbody>\n",
              "    <tr>\n",
              "      <th>1</th>\n",
              "      <td>Acura</td>\n",
              "      <td>CL</td>\n",
              "      <td>1612</td>\n",
              "      <td>Dizel</td>\n",
              "      <td>Yarı Otomatik Vites</td>\n",
              "      <td>1301-1600 cc</td>\n",
              "      <td>101-125 BG</td>\n",
              "      <td>Mavi</td>\n",
              "      <td>Sedan</td>\n",
              "      <td>Sahibinden</td>\n",
              "      <td>2. El</td>\n",
              "      <td>127000</td>\n",
              "      <td>151500</td>\n",
              "      <td>5.0</td>\n",
              "      <td>79750</td>\n",
              "      <td>83099.037386</td>\n",
              "      <td>-3349.0</td>\n",
              "      <td>4.0</td>\n",
              "    </tr>\n",
              "    <tr>\n",
              "      <th>2</th>\n",
              "      <td>Acura</td>\n",
              "      <td>CL</td>\n",
              "      <td>1171</td>\n",
              "      <td>Benzin/LPG</td>\n",
              "      <td>Düz Vites</td>\n",
              "      <td>1301-1600 cc</td>\n",
              "      <td>101-125 BG</td>\n",
              "      <td>Turkuaz</td>\n",
              "      <td>Sedan</td>\n",
              "      <td>Sahibinden</td>\n",
              "      <td>2. El</td>\n",
              "      <td>175000</td>\n",
              "      <td>19750</td>\n",
              "      <td>26.0</td>\n",
              "      <td>64000</td>\n",
              "      <td>67548.646150</td>\n",
              "      <td>-3549.0</td>\n",
              "      <td>5.0</td>\n",
              "    </tr>\n",
              "    <tr>\n",
              "      <th>3</th>\n",
              "      <td>Acura</td>\n",
              "      <td>CL</td>\n",
              "      <td>1612</td>\n",
              "      <td>Dizel</td>\n",
              "      <td>Düz Vites</td>\n",
              "      <td>1301-1600 cc</td>\n",
              "      <td>76-100 BG</td>\n",
              "      <td>Kahverengi</td>\n",
              "      <td>Sedan</td>\n",
              "      <td>Sahibinden</td>\n",
              "      <td>2. El</td>\n",
              "      <td>325</td>\n",
              "      <td>52000</td>\n",
              "      <td>7.0</td>\n",
              "      <td>55900</td>\n",
              "      <td>56456.296692</td>\n",
              "      <td>-556.0</td>\n",
              "      <td>1.0</td>\n",
              "    </tr>\n",
              "    <tr>\n",
              "      <th>4</th>\n",
              "      <td>Acura</td>\n",
              "      <td>CL</td>\n",
              "      <td>1171</td>\n",
              "      <td>Dizel</td>\n",
              "      <td>Otomatik Vites</td>\n",
              "      <td>1801-2000 cc</td>\n",
              "      <td>151-175 BG</td>\n",
              "      <td>Beyaz</td>\n",
              "      <td>Sedan</td>\n",
              "      <td>Sahibinden</td>\n",
              "      <td>2. El</td>\n",
              "      <td>207000</td>\n",
              "      <td>148750</td>\n",
              "      <td>10.0</td>\n",
              "      <td>79000</td>\n",
              "      <td>57827.140995</td>\n",
              "      <td>21173.0</td>\n",
              "      <td>-37.0</td>\n",
              "    </tr>\n",
              "    <tr>\n",
              "      <th>5</th>\n",
              "      <td>Acura</td>\n",
              "      <td>CL</td>\n",
              "      <td>1171</td>\n",
              "      <td>Dizel</td>\n",
              "      <td>Düz Vites</td>\n",
              "      <td>1801-2000 cc</td>\n",
              "      <td>101-125 BG</td>\n",
              "      <td>Lacivert</td>\n",
              "      <td>Roadster</td>\n",
              "      <td>Galeriden</td>\n",
              "      <td>2. El</td>\n",
              "      <td>320000</td>\n",
              "      <td>42500</td>\n",
              "      <td>21.0</td>\n",
              "      <td>44500</td>\n",
              "      <td>39282.070928</td>\n",
              "      <td>5218.0</td>\n",
              "      <td>-13.0</td>\n",
              "    </tr>\n",
              "    <tr>\n",
              "      <th>6</th>\n",
              "      <td>Acura</td>\n",
              "      <td>CL</td>\n",
              "      <td>1171</td>\n",
              "      <td>Dizel</td>\n",
              "      <td>Otomatik Vites</td>\n",
              "      <td>1301-1600 cc</td>\n",
              "      <td>101-125 BG</td>\n",
              "      <td>Kırmızı</td>\n",
              "      <td>Sedan</td>\n",
              "      <td>Galeriden</td>\n",
              "      <td>2. El</td>\n",
              "      <td>183</td>\n",
              "      <td>170000</td>\n",
              "      <td>6.0</td>\n",
              "      <td>197000</td>\n",
              "      <td>156586.266330</td>\n",
              "      <td>40414.0</td>\n",
              "      <td>-26.0</td>\n",
              "    </tr>\n",
              "    <tr>\n",
              "      <th>7</th>\n",
              "      <td>Acura</td>\n",
              "      <td>CL</td>\n",
              "      <td>1612</td>\n",
              "      <td>Dizel</td>\n",
              "      <td>Düz Vites</td>\n",
              "      <td>1301-1600 cc</td>\n",
              "      <td>76-100 BG</td>\n",
              "      <td>Beyaz</td>\n",
              "      <td>Hatchback 5 Kapı</td>\n",
              "      <td>Sahibinden</td>\n",
              "      <td>2. El</td>\n",
              "      <td>79000</td>\n",
              "      <td>82500</td>\n",
              "      <td>6.0</td>\n",
              "      <td>57500</td>\n",
              "      <td>48863.425295</td>\n",
              "      <td>8637.0</td>\n",
              "      <td>-18.0</td>\n",
              "    </tr>\n",
              "    <tr>\n",
              "      <th>8</th>\n",
              "      <td>Acura</td>\n",
              "      <td>RSX</td>\n",
              "      <td>1739</td>\n",
              "      <td>Hibrit</td>\n",
              "      <td>Otomatik Vites</td>\n",
              "      <td>1601-1800 cc</td>\n",
              "      <td>100 BG ve altı</td>\n",
              "      <td>Beyaz</td>\n",
              "      <td>Sedan</td>\n",
              "      <td>Yetkili</td>\n",
              "      <td>0 KM</td>\n",
              "      <td>15662</td>\n",
              "      <td>189000</td>\n",
              "      <td>1.0</td>\n",
              "      <td>76000</td>\n",
              "      <td>75784.045810</td>\n",
              "      <td>216.0</td>\n",
              "      <td>-0.0</td>\n",
              "    </tr>\n",
              "    <tr>\n",
              "      <th>9</th>\n",
              "      <td>Acura</td>\n",
              "      <td>RSX</td>\n",
              "      <td>1739</td>\n",
              "      <td>Hibrit</td>\n",
              "      <td>Otomatik Vites</td>\n",
              "      <td>1601-1800 cc</td>\n",
              "      <td>100 BG ve altı</td>\n",
              "      <td>Gri</td>\n",
              "      <td>Sedan</td>\n",
              "      <td>Yetkili</td>\n",
              "      <td>0 KM</td>\n",
              "      <td>31971</td>\n",
              "      <td>189000</td>\n",
              "      <td>1.0</td>\n",
              "      <td>134750</td>\n",
              "      <td>135379.135138</td>\n",
              "      <td>-629.0</td>\n",
              "      <td>0.0</td>\n",
              "    </tr>\n",
              "    <tr>\n",
              "      <th>10</th>\n",
              "      <td>Acura</td>\n",
              "      <td>CL</td>\n",
              "      <td>1612</td>\n",
              "      <td>Benzin/LPG</td>\n",
              "      <td>Düz Vites</td>\n",
              "      <td>1301-1600 cc</td>\n",
              "      <td>101-125 BG</td>\n",
              "      <td>Siyah</td>\n",
              "      <td>Hatchback 5 Kapı</td>\n",
              "      <td>Sahibinden</td>\n",
              "      <td>2. El</td>\n",
              "      <td>252000</td>\n",
              "      <td>36750</td>\n",
              "      <td>19.0</td>\n",
              "      <td>149000</td>\n",
              "      <td>148209.083743</td>\n",
              "      <td>791.0</td>\n",
              "      <td>-1.0</td>\n",
              "    </tr>\n",
              "  </tbody>\n",
              "</table>\n",
              "</div>"
            ],
            "text/plain": [
              "    Marka Arac Tip Grubu  Arac Tip  ...  Tahmini Fiyat     Fark Yuzdelik_Fark\n",
              "1   Acura             CL      1612  ...   83099.037386  -3349.0           4.0\n",
              "2   Acura             CL      1171  ...   67548.646150  -3549.0           5.0\n",
              "3   Acura             CL      1612  ...   56456.296692   -556.0           1.0\n",
              "4   Acura             CL      1171  ...   57827.140995  21173.0         -37.0\n",
              "5   Acura             CL      1171  ...   39282.070928   5218.0         -13.0\n",
              "6   Acura             CL      1171  ...  156586.266330  40414.0         -26.0\n",
              "7   Acura             CL      1612  ...   48863.425295   8637.0         -18.0\n",
              "8   Acura            RSX      1739  ...   75784.045810    216.0          -0.0\n",
              "9   Acura            RSX      1739  ...  135379.135138   -629.0           0.0\n",
              "10  Acura             CL      1612  ...  148209.083743    791.0          -1.0\n",
              "\n",
              "[10 rows x 18 columns]"
            ]
          },
          "metadata": {
            "tags": []
          },
          "execution_count": 127
        }
      ]
    },
    {
      "cell_type": "code",
      "metadata": {
        "id": "PAFMdbsDnqI8",
        "outputId": "ae2b938d-8483-49e6-d135-d9160c124825",
        "colab": {
          "base_uri": "https://localhost:8080/",
          "height": 296
        }
      },
      "source": [
        "sns.scatterplot(x='Tahmini Fiyat',y='Gerçek Fiyat',data=real_pred )\r\n"
      ],
      "execution_count": 134,
      "outputs": [
        {
          "output_type": "execute_result",
          "data": {
            "text/plain": [
              "<matplotlib.axes._subplots.AxesSubplot at 0x7f658127e5f8>"
            ]
          },
          "metadata": {
            "tags": []
          },
          "execution_count": 134
        },
        {
          "output_type": "display_data",
          "data": {
            "image/png": "[encoded data removed]",
            "text/plain": [
              "<Figure size 432x288 with 1 Axes>"
            ]
          },
          "metadata": {
            "tags": [],
            "needs_background": "light"
          }
        }
      ]
    },
    {
      "cell_type": "code",
      "metadata": {
        "id": "qm5BSSYSoR0M",
        "outputId": "fc363e0e-a199-44af-fb20-12da3776425f",
        "colab": {
          "base_uri": "https://localhost:8080/",
          "height": 458
        }
      },
      "source": [
        "sns.jointplot(x='Tahmini Fiyat',y='Gerçek Fiyat',data=real_pred , kind='reg',\r\n",
        "                  joint_kws={'line_kws':{'color':'cyan'}})"
      ],
      "execution_count": 131,
      "outputs": [
        {
          "output_type": "execute_result",
          "data": {
            "text/plain": [
              "<seaborn.axisgrid.JointGrid at 0x7f65810d9908>"
            ]
          },
          "metadata": {
            "tags": []
          },
          "execution_count": 131
        },
        {
          "output_type": "display_data",
          "data": {
            "image/png": "[encoded data removed]",
            "text/plain": [
              "<Figure size 432x432 with 3 Axes>"
            ]
          },
          "metadata": {
            "tags": [],
            "needs_background": "light"
          }
        }
      ]
    }
  ]
}